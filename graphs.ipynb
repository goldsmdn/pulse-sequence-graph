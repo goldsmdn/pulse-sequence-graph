{
 "cells": [
  {
   "cell_type": "markdown",
   "id": "7e7090a5",
   "metadata": {},
   "source": [
    "CPGM and UDD sequences\n",
    "======================"
   ]
  },
  {
   "cell_type": "markdown",
   "id": "23290459",
   "metadata": {},
   "source": [
    "Simple Worksheet to plot CPMG and UDD like pulse sequences\n",
    "===================================================="
   ]
  },
  {
   "cell_type": "code",
   "execution_count": 1,
   "id": "839dfc73",
   "metadata": {},
   "outputs": [],
   "source": [
    "import matplotlib.pyplot as plt\n",
    "import numpy as np\n",
    "import math"
   ]
  },
  {
   "cell_type": "code",
   "execution_count": 2,
   "id": "fecc045f",
   "metadata": {},
   "outputs": [],
   "source": [
    "N = 8 # number of pulses to plot\n",
    "PI = math.pi"
   ]
  },
  {
   "cell_type": "code",
   "execution_count": 3,
   "id": "6cb5fef6",
   "metadata": {},
   "outputs": [],
   "source": [
    "#determine separations for CPMG\n",
    "time1 = [(1 + 2 * count) for count in range(N - 2)]\n",
    "time2 = [0, 2 * ( N - 2)]"
   ]
  },
  {
   "cell_type": "code",
   "execution_count": 4,
   "id": "b339b9c9",
   "metadata": {},
   "outputs": [
    {
     "data": {
      "image/png": "[encoded data removed]",
      "text/plain": [
       "<Figure size 432x288 with 1 Axes>"
      ]
     },
     "metadata": {
      "needs_background": "light"
     },
     "output_type": "display_data"
    }
   ],
   "source": [
    "time = time1 + time2\n",
    "fig, ax = plt.subplots()\n",
    "title = 'CPMG pulses, N = ' + str(N)\n",
    "ax.set(title = title)\n",
    "ax.vlines(time1, 0, 1, color=\"tab:red\", linestyles='solid')     # The vertical stems for pi pulses.\n",
    "ax.vlines(time2, 0, 0.5, color=\"tab:blue\", linestyles='solid')  # The vertical stems for pi/2 pulses.\n",
    "ax.plot(time, np.zeros_like(time), \"-o\",\n",
    "        color=\"k\", markerfacecolor=\"w\")                         # Baseline and markers on it.\n",
    "ax.yaxis.set_visible(False)\n",
    "ax.xaxis.set_visible(False)\n",
    "fname = title + '.png'\n",
    "plt.savefig(fname)"
   ]
  },
  {
   "cell_type": "code",
   "execution_count": 5,
   "id": "5b96a1e9",
   "metadata": {},
   "outputs": [],
   "source": [
    "#determine separations for UDD\n",
    "time3 = []\n",
    "const = ((2 * N) - 2)\n",
    "for count in range (1, N - 1):\n",
    "    a = PI * count\n",
    "    b = a / const\n",
    "    c = math.sin(b)\n",
    "    d = c ** 2\n",
    "    e = d * 2 * ( N - 2)\n",
    "    time3.append(e)"
   ]
  },
  {
   "cell_type": "code",
   "execution_count": 6,
   "id": "375059e1",
   "metadata": {},
   "outputs": [
    {
     "data": {
      "image/png": "[encoded data removed]",
      "text/plain": [
       "<Figure size 432x288 with 1 Axes>"
      ]
     },
     "metadata": {
      "needs_background": "light"
     },
     "output_type": "display_data"
    }
   ],
   "source": [
    "time = time3 + time2\n",
    "fig, ax = plt.subplots()\n",
    "title = 'UDD pulses, N = ' + str(N)\n",
    "ax.set(title = title)\n",
    "ax.vlines(time3, 0, 1, color=\"tab:red\", linestyles='solid')  # The vertical stems for pi pulses.\n",
    "ax.vlines(time2, 0, 0.5, color=\"tab:blue\", linestyles='solid')  # The vertical stems for pi/2 pulses.\n",
    "ax.plot(time, np.zeros_like(time), \"-o\",\n",
    "        color=\"k\", markerfacecolor=\"w\")  # Baseline and markers on it.\n",
    "ax.yaxis.set_visible(False)\n",
    "ax.xaxis.set_visible(False)\n",
    "fname = title + '.png'\n",
    "plt.savefig(fname)"
   ]
  }
 ],
 "metadata": {
  "kernelspec": {
   "display_name": "Python 3",
   "language": "python",
   "name": "python3"
  },
  "language_info": {
   "codemirror_mode": {
    "name": "ipython",
    "version": 3
   },
   "file_extension": ".py",
   "mimetype": "text/x-python",
   "name": "python",
   "nbconvert_exporter": "python",
   "pygments_lexer": "ipython3",
   "version": "3.8.10"
  }
 },
 "nbformat": 4,
 "nbformat_minor": 5
}
